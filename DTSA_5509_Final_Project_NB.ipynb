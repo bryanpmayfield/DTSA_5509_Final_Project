{
 "cells": [
  {
   "cell_type": "markdown",
   "id": "6e3fe33a",
   "metadata": {},
   "source": [
    "**DTSA 5509 Final Project**\n",
    "\n"
   ]
  },
  {
   "cell_type": "markdown",
   "id": "c00578b9",
   "metadata": {},
   "source": [
    "**Project Topic and Goals**\n",
    "\n",
    "The topic of this project is survival outcomes in the setting of hepatitis. This is fundamentally a supervised learning problem with the goal being classification. More specifically, the goal in this project is the use the available data to classify a patient into either the \"Live\" group or \"Die\" group. So, more plainly, the goal is to predict if a given patient with hepatitis will live or die based on the data available. In addition to acheiving the maximum possible prediction accuracy for classifying these patients, a secondary goal is to understand which factors (features) are the strongest contributors to whether a patient is classified as living or dying.    "
   ]
  },
  {
   "cell_type": "markdown",
   "id": "eb7f8859",
   "metadata": {},
   "source": [
    "**Data Source** \n",
    "\n",
    "The data used in this project was obtained from the popular [UCI Machine Learning Repository](https://archive.ics.uci.edu/) The UCI Repository has created a python package/library that can be used to access these datasets and that is what is installed below and used to access/gather the data. \n",
    "\n",
    "Citation: Hepatitis. (1988). UCI Machine Learning Repository. https://doi.org/10.24432/C5Q59J."
   ]
  },
  {
   "cell_type": "code",
   "execution_count": 4,
   "id": "6cb18d45",
   "metadata": {},
   "outputs": [
    {
     "name": "stdout",
     "output_type": "stream",
     "text": [
      "Collecting ucimlrepo\n",
      "  Downloading ucimlrepo-0.0.3-py3-none-any.whl (7.0 kB)\n",
      "Installing collected packages: ucimlrepo\n",
      "Successfully installed ucimlrepo-0.0.3\n",
      "Note: you may need to restart the kernel to use updated packages.\n"
     ]
    }
   ],
   "source": [
    "# Installing package to get data \n",
    "\n",
    "#%pip install ucimlrepo\n",
    "\n",
    "# %pip is the magic command that will install into the current kernel (rather than into the instance of Python\n",
    "# that launched the notebook)\n",
    "\n"
   ]
  },
  {
   "cell_type": "code",
   "execution_count": 2,
   "id": "fb986d60",
   "metadata": {},
   "outputs": [],
   "source": [
    "# Importing Dataset \n",
    "\n",
    "from ucimlrepo import fetch_ucirepo\n",
    "\n",
    "# fetch dataset \n",
    "\n",
    "hepatitis = fetch_ucirepo(id=46)"
   ]
  },
  {
   "cell_type": "code",
   "execution_count": 46,
   "id": "c05bb12b",
   "metadata": {},
   "outputs": [],
   "source": [
    "# Importing necessary packages \n",
    "\n",
    "\n",
    "import numpy as np\n",
    "import pandas as pd\n",
    "from sklearn.impute import SimpleImputer"
   ]
  },
  {
   "cell_type": "code",
   "execution_count": 14,
   "id": "01504863",
   "metadata": {},
   "outputs": [
    {
     "data": {
      "text/plain": [
       "{'data': {'ids': None,\n",
       "  'features':      Age  Sex  Steroid  Antivirals  Fatigue  Malaise  Anorexia  Liver Big  \\\n",
       "  0     30    2      1.0           2      2.0      2.0       2.0        1.0   \n",
       "  1     50    1      1.0           2      1.0      2.0       2.0        1.0   \n",
       "  2     78    1      2.0           2      1.0      2.0       2.0        2.0   \n",
       "  3     31    1      NaN           1      2.0      2.0       2.0        2.0   \n",
       "  4     34    1      2.0           2      2.0      2.0       2.0        2.0   \n",
       "  ..   ...  ...      ...         ...      ...      ...       ...        ...   \n",
       "  150   46    1      2.0           2      1.0      1.0       1.0        2.0   \n",
       "  151   44    1      2.0           2      1.0      2.0       2.0        2.0   \n",
       "  152   61    1      1.0           2      1.0      1.0       2.0        1.0   \n",
       "  153   53    2      1.0           2      1.0      2.0       2.0        2.0   \n",
       "  154   43    1      2.0           2      1.0      2.0       2.0        2.0   \n",
       "  \n",
       "       Liver Firm  Spleen Palpable  Spiders  Ascites  Varices  Bilirubin  \\\n",
       "  0           2.0              2.0      2.0      2.0      2.0        1.0   \n",
       "  1           2.0              2.0      2.0      2.0      2.0        0.9   \n",
       "  2           2.0              2.0      2.0      2.0      2.0        0.7   \n",
       "  3           2.0              2.0      2.0      2.0      2.0        0.7   \n",
       "  4           2.0              2.0      2.0      2.0      2.0        1.0   \n",
       "  ..          ...              ...      ...      ...      ...        ...   \n",
       "  150         2.0              2.0      1.0      1.0      1.0        7.6   \n",
       "  151         1.0              2.0      2.0      2.0      2.0        0.9   \n",
       "  152         1.0              2.0      1.0      2.0      2.0        0.8   \n",
       "  153         2.0              1.0      1.0      2.0      1.0        1.5   \n",
       "  154         2.0              1.0      1.0      1.0      2.0        1.2   \n",
       "  \n",
       "       Alk Phosphate   Sgot  Albumin  Protime  Histology  \n",
       "  0             85.0   18.0      4.0      NaN          1  \n",
       "  1            135.0   42.0      3.5      NaN          1  \n",
       "  2             96.0   32.0      4.0      NaN          1  \n",
       "  3             46.0   52.0      4.0     80.0          1  \n",
       "  4              NaN  200.0      4.0      NaN          1  \n",
       "  ..             ...    ...      ...      ...        ...  \n",
       "  150            NaN  242.0      3.3     50.0          2  \n",
       "  151          126.0  142.0      4.3      NaN          2  \n",
       "  152           75.0   20.0      4.1      NaN          2  \n",
       "  153           81.0   19.0      4.1     48.0          2  \n",
       "  154          100.0   19.0      3.1     42.0          2  \n",
       "  \n",
       "  [155 rows x 19 columns],\n",
       "  'targets':      Class\n",
       "  0        2\n",
       "  1        2\n",
       "  2        2\n",
       "  3        2\n",
       "  4        2\n",
       "  ..     ...\n",
       "  150      1\n",
       "  151      2\n",
       "  152      2\n",
       "  153      2\n",
       "  154      1\n",
       "  \n",
       "  [155 rows x 1 columns],\n",
       "  'original':      Class  Age  Sex  Steroid  Antivirals  Fatigue  Malaise  Anorexia  \\\n",
       "  0        2   30    2      1.0           2      2.0      2.0       2.0   \n",
       "  1        2   50    1      1.0           2      1.0      2.0       2.0   \n",
       "  2        2   78    1      2.0           2      1.0      2.0       2.0   \n",
       "  3        2   31    1      NaN           1      2.0      2.0       2.0   \n",
       "  4        2   34    1      2.0           2      2.0      2.0       2.0   \n",
       "  ..     ...  ...  ...      ...         ...      ...      ...       ...   \n",
       "  150      1   46    1      2.0           2      1.0      1.0       1.0   \n",
       "  151      2   44    1      2.0           2      1.0      2.0       2.0   \n",
       "  152      2   61    1      1.0           2      1.0      1.0       2.0   \n",
       "  153      2   53    2      1.0           2      1.0      2.0       2.0   \n",
       "  154      1   43    1      2.0           2      1.0      2.0       2.0   \n",
       "  \n",
       "       Liver Big  Liver Firm  Spleen Palpable  Spiders  Ascites  Varices  \\\n",
       "  0          1.0         2.0              2.0      2.0      2.0      2.0   \n",
       "  1          1.0         2.0              2.0      2.0      2.0      2.0   \n",
       "  2          2.0         2.0              2.0      2.0      2.0      2.0   \n",
       "  3          2.0         2.0              2.0      2.0      2.0      2.0   \n",
       "  4          2.0         2.0              2.0      2.0      2.0      2.0   \n",
       "  ..         ...         ...              ...      ...      ...      ...   \n",
       "  150        2.0         2.0              2.0      1.0      1.0      1.0   \n",
       "  151        2.0         1.0              2.0      2.0      2.0      2.0   \n",
       "  152        1.0         1.0              2.0      1.0      2.0      2.0   \n",
       "  153        2.0         2.0              1.0      1.0      2.0      1.0   \n",
       "  154        2.0         2.0              1.0      1.0      1.0      2.0   \n",
       "  \n",
       "       Bilirubin  Alk Phosphate   Sgot  Albumin  Protime  Histology  \n",
       "  0          1.0           85.0   18.0      4.0      NaN          1  \n",
       "  1          0.9          135.0   42.0      3.5      NaN          1  \n",
       "  2          0.7           96.0   32.0      4.0      NaN          1  \n",
       "  3          0.7           46.0   52.0      4.0     80.0          1  \n",
       "  4          1.0            NaN  200.0      4.0      NaN          1  \n",
       "  ..         ...            ...    ...      ...      ...        ...  \n",
       "  150        7.6            NaN  242.0      3.3     50.0          2  \n",
       "  151        0.9          126.0  142.0      4.3      NaN          2  \n",
       "  152        0.8           75.0   20.0      4.1      NaN          2  \n",
       "  153        1.5           81.0   19.0      4.1     48.0          2  \n",
       "  154        1.2          100.0   19.0      3.1     42.0          2  \n",
       "  \n",
       "  [155 rows x 20 columns],\n",
       "  'headers': Index(['Class', 'Age', 'Sex', 'Steroid', 'Antivirals', 'Fatigue', 'Malaise',\n",
       "         'Anorexia', 'Liver Big', 'Liver Firm', 'Spleen Palpable', 'Spiders',\n",
       "         'Ascites', 'Varices', 'Bilirubin', 'Alk Phosphate', 'Sgot', 'Albumin',\n",
       "         'Protime', 'Histology'],\n",
       "        dtype='object')},\n",
       " 'metadata': {'uci_id': 46,\n",
       "  'name': 'Hepatitis',\n",
       "  'repository_url': 'https://archive.ics.uci.edu/dataset/46/hepatitis',\n",
       "  'data_url': 'https://archive.ics.uci.edu/static/public/46/data.csv',\n",
       "  'abstract': 'From G.Gong: CMU; Mostly Boolean or numeric-valued attribute types; Includes cost data (donated by Peter Turney)',\n",
       "  'area': 'Health and Medicine',\n",
       "  'tasks': ['Classification'],\n",
       "  'characteristics': ['Multivariate'],\n",
       "  'num_instances': 155,\n",
       "  'num_features': 19,\n",
       "  'feature_types': ['Categorical', 'Integer', 'Real'],\n",
       "  'demographics': [],\n",
       "  'target_col': ['Class'],\n",
       "  'index_col': None,\n",
       "  'has_missing_values': 'yes',\n",
       "  'missing_values_symbol': 'NaN',\n",
       "  'year_of_dataset_creation': 1983,\n",
       "  'last_updated': 'Fri Nov 03 2023',\n",
       "  'dataset_doi': '10.24432/C5Q59J',\n",
       "  'creators': [],\n",
       "  'intro_paper': None,\n",
       "  'additional_info': {'summary': 'Please ask Gail Gong for further information on this database.',\n",
       "   'purpose': None,\n",
       "   'funded_by': None,\n",
       "   'instances_represent': None,\n",
       "   'recommended_data_splits': None,\n",
       "   'sensitive_data': None,\n",
       "   'preprocessing_description': None,\n",
       "   'variable_info': '     1. Class: DIE, LIVE\\r\\n     2. AGE: 10, 20, 30, 40, 50, 60, 70, 80\\r\\n     3. SEX: male, female\\r\\n     4. STEROID: no, yes\\r\\n     5. ANTIVIRALS: no, yes\\r\\n     6. FATIGUE: no, yes\\r\\n     7. MALAISE: no, yes\\r\\n     8. ANOREXIA: no, yes\\r\\n     9. LIVER BIG: no, yes\\r\\n    10. LIVER FIRM: no, yes\\r\\n    11. SPLEEN PALPABLE: no, yes\\r\\n    12. SPIDERS: no, yes\\r\\n    13. ASCITES: no, yes\\r\\n    14. VARICES: no, yes\\r\\n    15. BILIRUBIN: 0.39, 0.80, 1.20, 2.00, 3.00, 4.00\\r\\n        -- see the note below\\r\\n    16. ALK PHOSPHATE: 33, 80, 120, 160, 200, 250\\r\\n    17. SGOT: 13, 100, 200, 300, 400, 500, \\r\\n    18. ALBUMIN: 2.1, 3.0, 3.8, 4.5, 5.0, 6.0\\r\\n    19. PROTIME: 10, 20, 30, 40, 50, 60, 70, 80, 90\\r\\n    20. HISTOLOGY: no, yes\\r\\n\\r\\nThe BILIRUBIN attribute appears to be continuously-valued.  I checked this with the donater, Bojan Cestnik, who replied:\\r\\n\\r\\n About the hepatitis database and BILIRUBIN problem I would like to say the following: BILIRUBIN is continuous attribute (= the number of it\\'s \"values\" in the ASDOHEPA.DAT file is negative!!!); \"values\" are quoted because when speaking about the continuous attribute there is no such thing as all possible values. However, they represent so called \"boundary\" values; according to these \"boundary\" values the attribute can be discretized. At the same time, because of the continious attribute, one can perform some other test since the continuous information is preserved. I hope that these lines have at least roughly answered your question. ',\n",
       "   'citation': None}},\n",
       " 'variables':                name     role         type demographic description units  \\\n",
       " 0             Class   Target  Categorical        None        None  None   \n",
       " 1               Age  Feature      Integer        None        None  None   \n",
       " 2               Sex  Feature  Categorical        None        None  None   \n",
       " 3           Steroid  Feature  Categorical        None        None  None   \n",
       " 4        Antivirals  Feature  Categorical        None        None  None   \n",
       " 5           Fatigue  Feature  Categorical        None        None  None   \n",
       " 6           Malaise  Feature  Categorical        None        None  None   \n",
       " 7          Anorexia  Feature  Categorical        None        None  None   \n",
       " 8         Liver Big  Feature  Categorical        None        None  None   \n",
       " 9        Liver Firm  Feature  Categorical        None        None  None   \n",
       " 10  Spleen Palpable  Feature  Categorical        None        None  None   \n",
       " 11          Spiders  Feature  Categorical        None        None  None   \n",
       " 12          Ascites  Feature  Categorical        None        None  None   \n",
       " 13          Varices  Feature  Categorical        None        None  None   \n",
       " 14        Bilirubin  Feature   Continuous        None        None  None   \n",
       " 15    Alk Phosphate  Feature      Integer        None        None  None   \n",
       " 16             Sgot  Feature      Integer        None        None  None   \n",
       " 17          Albumin  Feature      Integer        None        None  None   \n",
       " 18          Protime  Feature      Integer        None        None  None   \n",
       " 19        Histology  Feature      Integer        None        None  None   \n",
       " \n",
       "    missing_values  \n",
       " 0              no  \n",
       " 1              no  \n",
       " 2              no  \n",
       " 3             yes  \n",
       " 4              no  \n",
       " 5             yes  \n",
       " 6             yes  \n",
       " 7             yes  \n",
       " 8             yes  \n",
       " 9             yes  \n",
       " 10            yes  \n",
       " 11            yes  \n",
       " 12            yes  \n",
       " 13            yes  \n",
       " 14            yes  \n",
       " 15            yes  \n",
       " 16            yes  \n",
       " 17            yes  \n",
       " 18            yes  \n",
       " 19             no  }"
      ]
     },
     "execution_count": 14,
     "metadata": {},
     "output_type": "execute_result"
    }
   ],
   "source": [
    "hepatitis"
   ]
  },
  {
   "cell_type": "code",
   "execution_count": 8,
   "id": "97f86d22",
   "metadata": {},
   "outputs": [
    {
     "data": {
      "text/plain": [
       "(155, 20)"
      ]
     },
     "execution_count": 8,
     "metadata": {},
     "output_type": "execute_result"
    }
   ],
   "source": [
    "# Putting data into a Pandas dataframe and checking the shape of the dataframe \n",
    "\n",
    "df_hepatitis = hepatitis.data.original\n",
    "\n",
    "df_hepatitis.shape \n"
   ]
  },
  {
   "cell_type": "code",
   "execution_count": 9,
   "id": "0ccee4c4",
   "metadata": {},
   "outputs": [
    {
     "data": {
      "text/html": [
       "<div>\n",
       "<style scoped>\n",
       "    .dataframe tbody tr th:only-of-type {\n",
       "        vertical-align: middle;\n",
       "    }\n",
       "\n",
       "    .dataframe tbody tr th {\n",
       "        vertical-align: top;\n",
       "    }\n",
       "\n",
       "    .dataframe thead th {\n",
       "        text-align: right;\n",
       "    }\n",
       "</style>\n",
       "<table border=\"1\" class=\"dataframe\">\n",
       "  <thead>\n",
       "    <tr style=\"text-align: right;\">\n",
       "      <th></th>\n",
       "      <th>Class</th>\n",
       "      <th>Age</th>\n",
       "      <th>Sex</th>\n",
       "      <th>Steroid</th>\n",
       "      <th>Antivirals</th>\n",
       "      <th>Fatigue</th>\n",
       "      <th>Malaise</th>\n",
       "      <th>Anorexia</th>\n",
       "      <th>Liver Big</th>\n",
       "      <th>Liver Firm</th>\n",
       "      <th>Spleen Palpable</th>\n",
       "      <th>Spiders</th>\n",
       "      <th>Ascites</th>\n",
       "      <th>Varices</th>\n",
       "      <th>Bilirubin</th>\n",
       "      <th>Alk Phosphate</th>\n",
       "      <th>Sgot</th>\n",
       "      <th>Albumin</th>\n",
       "      <th>Protime</th>\n",
       "      <th>Histology</th>\n",
       "    </tr>\n",
       "  </thead>\n",
       "  <tbody>\n",
       "    <tr>\n",
       "      <th>0</th>\n",
       "      <td>2</td>\n",
       "      <td>30</td>\n",
       "      <td>2</td>\n",
       "      <td>1.0</td>\n",
       "      <td>2</td>\n",
       "      <td>2.0</td>\n",
       "      <td>2.0</td>\n",
       "      <td>2.0</td>\n",
       "      <td>1.0</td>\n",
       "      <td>2.0</td>\n",
       "      <td>2.0</td>\n",
       "      <td>2.0</td>\n",
       "      <td>2.0</td>\n",
       "      <td>2.0</td>\n",
       "      <td>1.0</td>\n",
       "      <td>85.0</td>\n",
       "      <td>18.0</td>\n",
       "      <td>4.0</td>\n",
       "      <td>NaN</td>\n",
       "      <td>1</td>\n",
       "    </tr>\n",
       "    <tr>\n",
       "      <th>1</th>\n",
       "      <td>2</td>\n",
       "      <td>50</td>\n",
       "      <td>1</td>\n",
       "      <td>1.0</td>\n",
       "      <td>2</td>\n",
       "      <td>1.0</td>\n",
       "      <td>2.0</td>\n",
       "      <td>2.0</td>\n",
       "      <td>1.0</td>\n",
       "      <td>2.0</td>\n",
       "      <td>2.0</td>\n",
       "      <td>2.0</td>\n",
       "      <td>2.0</td>\n",
       "      <td>2.0</td>\n",
       "      <td>0.9</td>\n",
       "      <td>135.0</td>\n",
       "      <td>42.0</td>\n",
       "      <td>3.5</td>\n",
       "      <td>NaN</td>\n",
       "      <td>1</td>\n",
       "    </tr>\n",
       "    <tr>\n",
       "      <th>2</th>\n",
       "      <td>2</td>\n",
       "      <td>78</td>\n",
       "      <td>1</td>\n",
       "      <td>2.0</td>\n",
       "      <td>2</td>\n",
       "      <td>1.0</td>\n",
       "      <td>2.0</td>\n",
       "      <td>2.0</td>\n",
       "      <td>2.0</td>\n",
       "      <td>2.0</td>\n",
       "      <td>2.0</td>\n",
       "      <td>2.0</td>\n",
       "      <td>2.0</td>\n",
       "      <td>2.0</td>\n",
       "      <td>0.7</td>\n",
       "      <td>96.0</td>\n",
       "      <td>32.0</td>\n",
       "      <td>4.0</td>\n",
       "      <td>NaN</td>\n",
       "      <td>1</td>\n",
       "    </tr>\n",
       "    <tr>\n",
       "      <th>3</th>\n",
       "      <td>2</td>\n",
       "      <td>31</td>\n",
       "      <td>1</td>\n",
       "      <td>NaN</td>\n",
       "      <td>1</td>\n",
       "      <td>2.0</td>\n",
       "      <td>2.0</td>\n",
       "      <td>2.0</td>\n",
       "      <td>2.0</td>\n",
       "      <td>2.0</td>\n",
       "      <td>2.0</td>\n",
       "      <td>2.0</td>\n",
       "      <td>2.0</td>\n",
       "      <td>2.0</td>\n",
       "      <td>0.7</td>\n",
       "      <td>46.0</td>\n",
       "      <td>52.0</td>\n",
       "      <td>4.0</td>\n",
       "      <td>80.0</td>\n",
       "      <td>1</td>\n",
       "    </tr>\n",
       "    <tr>\n",
       "      <th>4</th>\n",
       "      <td>2</td>\n",
       "      <td>34</td>\n",
       "      <td>1</td>\n",
       "      <td>2.0</td>\n",
       "      <td>2</td>\n",
       "      <td>2.0</td>\n",
       "      <td>2.0</td>\n",
       "      <td>2.0</td>\n",
       "      <td>2.0</td>\n",
       "      <td>2.0</td>\n",
       "      <td>2.0</td>\n",
       "      <td>2.0</td>\n",
       "      <td>2.0</td>\n",
       "      <td>2.0</td>\n",
       "      <td>1.0</td>\n",
       "      <td>NaN</td>\n",
       "      <td>200.0</td>\n",
       "      <td>4.0</td>\n",
       "      <td>NaN</td>\n",
       "      <td>1</td>\n",
       "    </tr>\n",
       "  </tbody>\n",
       "</table>\n",
       "</div>"
      ],
      "text/plain": [
       "   Class  Age  Sex  Steroid  Antivirals  Fatigue  Malaise  Anorexia  \\\n",
       "0      2   30    2      1.0           2      2.0      2.0       2.0   \n",
       "1      2   50    1      1.0           2      1.0      2.0       2.0   \n",
       "2      2   78    1      2.0           2      1.0      2.0       2.0   \n",
       "3      2   31    1      NaN           1      2.0      2.0       2.0   \n",
       "4      2   34    1      2.0           2      2.0      2.0       2.0   \n",
       "\n",
       "   Liver Big  Liver Firm  Spleen Palpable  Spiders  Ascites  Varices  \\\n",
       "0        1.0         2.0              2.0      2.0      2.0      2.0   \n",
       "1        1.0         2.0              2.0      2.0      2.0      2.0   \n",
       "2        2.0         2.0              2.0      2.0      2.0      2.0   \n",
       "3        2.0         2.0              2.0      2.0      2.0      2.0   \n",
       "4        2.0         2.0              2.0      2.0      2.0      2.0   \n",
       "\n",
       "   Bilirubin  Alk Phosphate   Sgot  Albumin  Protime  Histology  \n",
       "0        1.0           85.0   18.0      4.0      NaN          1  \n",
       "1        0.9          135.0   42.0      3.5      NaN          1  \n",
       "2        0.7           96.0   32.0      4.0      NaN          1  \n",
       "3        0.7           46.0   52.0      4.0     80.0          1  \n",
       "4        1.0            NaN  200.0      4.0      NaN          1  "
      ]
     },
     "execution_count": 9,
     "metadata": {},
     "output_type": "execute_result"
    }
   ],
   "source": [
    "df_hepatitis.head()"
   ]
  },
  {
   "cell_type": "code",
   "execution_count": 23,
   "id": "0ba602a3",
   "metadata": {},
   "outputs": [
    {
     "name": "stdout",
     "output_type": "stream",
     "text": [
      "     1. Class: DIE, LIVE\r\n",
      "     2. AGE: 10, 20, 30, 40, 50, 60, 70, 80\r\n",
      "     3. SEX: male, female\r\n",
      "     4. STEROID: no, yes\r\n",
      "     5. ANTIVIRALS: no, yes\r\n",
      "     6. FATIGUE: no, yes\r\n",
      "     7. MALAISE: no, yes\r\n",
      "     8. ANOREXIA: no, yes\r\n",
      "     9. LIVER BIG: no, yes\r\n",
      "    10. LIVER FIRM: no, yes\r\n",
      "    11. SPLEEN PALPABLE: no, yes\r\n",
      "    12. SPIDERS: no, yes\r\n",
      "    13. ASCITES: no, yes\r\n",
      "    14. VARICES: no, yes\r\n",
      "    15. BILIRUBIN: 0.39, 0.80, 1.20, 2.00, 3.00, 4.00\r\n",
      "        -- see the note below\r\n",
      "    16. ALK PHOSPHATE: 33, 80, 120, 160, 200, 250\r\n",
      "    17. SGOT: 13, 100, 200, 300, 400, 500, \r\n",
      "    18. ALBUMIN: 2.1, 3.0, 3.8, 4.5, 5.0, 6.0\r\n",
      "    19. PROTIME: 10, 20, 30, 40, 50, 60, 70, 80, 90\r\n",
      "    20. HISTOLOGY: no, yes\r\n",
      "\r\n",
      "The BILIRUBIN attribute appears to be continuously-valued.  I checked this with the donater, Bojan Cestnik, who replied:\r\n",
      "\r\n",
      " About the hepatitis database and BILIRUBIN problem I would like to say the following: BILIRUBIN is continuous attribute (= the number of it's \"values\" in the ASDOHEPA.DAT file is negative!!!); \"values\" are quoted because when speaking about the continuous attribute there is no such thing as all possible values. However, they represent so called \"boundary\" values; according to these \"boundary\" values the attribute can be discretized. At the same time, because of the continious attribute, one can perform some other test since the continuous information is preserved. I hope that these lines have at least roughly answered your question. \n"
     ]
    }
   ],
   "source": [
    "print(hepatitis.metadata.additional_info.variable_info)"
   ]
  },
  {
   "cell_type": "code",
   "execution_count": 24,
   "id": "41699280",
   "metadata": {},
   "outputs": [
    {
     "name": "stdout",
     "output_type": "stream",
     "text": [
      "               name     role         type demographic description units  \\\n",
      "0             Class   Target  Categorical        None        None  None   \n",
      "1               Age  Feature      Integer        None        None  None   \n",
      "2               Sex  Feature  Categorical        None        None  None   \n",
      "3           Steroid  Feature  Categorical        None        None  None   \n",
      "4        Antivirals  Feature  Categorical        None        None  None   \n",
      "5           Fatigue  Feature  Categorical        None        None  None   \n",
      "6           Malaise  Feature  Categorical        None        None  None   \n",
      "7          Anorexia  Feature  Categorical        None        None  None   \n",
      "8         Liver Big  Feature  Categorical        None        None  None   \n",
      "9        Liver Firm  Feature  Categorical        None        None  None   \n",
      "10  Spleen Palpable  Feature  Categorical        None        None  None   \n",
      "11          Spiders  Feature  Categorical        None        None  None   \n",
      "12          Ascites  Feature  Categorical        None        None  None   \n",
      "13          Varices  Feature  Categorical        None        None  None   \n",
      "14        Bilirubin  Feature   Continuous        None        None  None   \n",
      "15    Alk Phosphate  Feature      Integer        None        None  None   \n",
      "16             Sgot  Feature      Integer        None        None  None   \n",
      "17          Albumin  Feature      Integer        None        None  None   \n",
      "18          Protime  Feature      Integer        None        None  None   \n",
      "19        Histology  Feature      Integer        None        None  None   \n",
      "\n",
      "   missing_values  \n",
      "0              no  \n",
      "1              no  \n",
      "2              no  \n",
      "3             yes  \n",
      "4              no  \n",
      "5             yes  \n",
      "6             yes  \n",
      "7             yes  \n",
      "8             yes  \n",
      "9             yes  \n",
      "10            yes  \n",
      "11            yes  \n",
      "12            yes  \n",
      "13            yes  \n",
      "14            yes  \n",
      "15            yes  \n",
      "16            yes  \n",
      "17            yes  \n",
      "18            yes  \n",
      "19             no  \n"
     ]
    }
   ],
   "source": [
    "print(hepatitis.variables)"
   ]
  },
  {
   "cell_type": "code",
   "execution_count": 36,
   "id": "b4574cae",
   "metadata": {},
   "outputs": [
    {
     "name": "stdout",
     "output_type": "stream",
     "text": [
      "There are 12 categorical features and 7 numeric features (1 continuous and 6 Integer).\n"
     ]
    }
   ],
   "source": [
    "df_variable_descriptions = hepatitis.variables \n",
    "\n",
    "num_categorical = (df_variable_descriptions['type'] == 'Categorical').sum()\n",
    "\n",
    "num_numeric = ((df_variable_descriptions['type'] == 'Integer') | \n",
    "               (df_variable_descriptions['type'] == 'Continuous')).sum()\n",
    "\n",
    "print(f'There are {num_categorical -1} categorical features and {num_numeric} numeric features (1 continuous and 6 Integer).')\n",
    "\n"
   ]
  },
  {
   "cell_type": "markdown",
   "id": "c21242f0",
   "metadata": {},
   "source": [
    "**Data Description**\n",
    "\n",
    "Data size: Including the target column, this dataset has 155 rows and 20 columns. 19 of the columns are feature columns. \n",
    "\n",
    "There are 12 categorical features and 7 numeric features (1 continuous and 6 Integer).\n"
   ]
  },
  {
   "cell_type": "markdown",
   "id": "269f916e",
   "metadata": {},
   "source": [
    "**Data Cleaning**\n",
    "\n",
    "To Do:\n",
    "\n",
    "- Columns with Missing Values are indicated above in the \"missing_values\" column of the variables dataframe. \n",
    "    - Decide how to handle missing values in each column with missing values "
   ]
  },
  {
   "cell_type": "code",
   "execution_count": 37,
   "id": "29fab26e",
   "metadata": {},
   "outputs": [
    {
     "data": {
      "text/plain": [
       "Class               0\n",
       "Age                 0\n",
       "Sex                 0\n",
       "Steroid             1\n",
       "Antivirals          0\n",
       "Fatigue             1\n",
       "Malaise             1\n",
       "Anorexia            1\n",
       "Liver Big          10\n",
       "Liver Firm         11\n",
       "Spleen Palpable     5\n",
       "Spiders             5\n",
       "Ascites             5\n",
       "Varices             5\n",
       "Bilirubin           6\n",
       "Alk Phosphate      29\n",
       "Sgot                4\n",
       "Albumin            16\n",
       "Protime            67\n",
       "Histology           0\n",
       "dtype: int64"
      ]
     },
     "execution_count": 37,
     "metadata": {},
     "output_type": "execute_result"
    }
   ],
   "source": [
    "# First, I want to see how many missing values are in each of the columns that are indicated to have \n",
    "# missing values \n",
    "\n",
    "\n",
    "df_hepatitis.isna().sum()"
   ]
  },
  {
   "cell_type": "code",
   "execution_count": 45,
   "id": "87cf492c",
   "metadata": {},
   "outputs": [
    {
     "data": {
      "text/plain": [
       "Class               0\n",
       "Age                 0\n",
       "Sex                 0\n",
       "Steroid             0\n",
       "Antivirals          0\n",
       "Fatigue             0\n",
       "Malaise             0\n",
       "Anorexia            0\n",
       "Liver Big           9\n",
       "Liver Firm         10\n",
       "Spleen Palpable     4\n",
       "Spiders             4\n",
       "Ascites             4\n",
       "Varices             4\n",
       "Bilirubin           5\n",
       "Alk Phosphate      28\n",
       "Sgot                3\n",
       "Albumin            15\n",
       "Protime            66\n",
       "Histology           0\n",
       "dtype: int64"
      ]
     },
     "execution_count": 45,
     "metadata": {},
     "output_type": "execute_result"
    }
   ],
   "source": [
    "# From the above, I see that there are 4 columns with only one missing value (Steroid, Fatigue, Malaise,\n",
    "# and Anorexia. Given the number of rows I have plus the fact that these are cateogrical variables,\n",
    "# I'm going to take the approach of just dropping the rows with missing values \n",
    "\n",
    "columns_with_one_missing_value = df_hepatitis.columns[df_hepatitis.isna().sum() == 1]\n",
    "\n",
    "df_hepatitis_clean = df_hepatitis.dropna(subset = columns_with_one_missing_value)\n",
    "\n",
    "df_hepatitis_clean.isna().sum()"
   ]
  },
  {
   "cell_type": "code",
   "execution_count": 49,
   "id": "3f230ac2",
   "metadata": {},
   "outputs": [
    {
     "name": "stdout",
     "output_type": "stream",
     "text": [
      "2    121\n",
      "1     32\n",
      "Name: Class, dtype: int64\n",
      "2    79.084967\n",
      "1    20.915033\n",
      "Name: Class, dtype: float64\n"
     ]
    },
    {
     "data": {
      "text/plain": [
       "Class                int64\n",
       "Age                  int64\n",
       "Sex                  int64\n",
       "Steroid            float64\n",
       "Antivirals           int64\n",
       "Fatigue            float64\n",
       "Malaise            float64\n",
       "Anorexia           float64\n",
       "Liver Big          float64\n",
       "Liver Firm         float64\n",
       "Spleen Palpable    float64\n",
       "Spiders            float64\n",
       "Ascites            float64\n",
       "Varices            float64\n",
       "Bilirubin          float64\n",
       "Alk Phosphate      float64\n",
       "Sgot               float64\n",
       "Albumin            float64\n",
       "Protime            float64\n",
       "Histology            int64\n",
       "dtype: object"
      ]
     },
     "execution_count": 49,
     "metadata": {},
     "output_type": "execute_result"
    }
   ],
   "source": [
    "# I Want to check to see how many in each class I have left to make sure I don't lose too many of either class \n",
    "\n",
    "target_class_counts = df_hepatitis_clean['Class'].value_counts()\n",
    "\n",
    "# Display the counts\n",
    "print(target_class_counts)\n",
    "\n",
    "# Calculate the percentage of observations for each class\n",
    "target_class_percentage = df_hepatitis_clean['Class'].value_counts(normalize=True) * 100\n",
    "\n",
    "# Display the percentage\n",
    "print(target_class_percentage)\n",
    "\n",
    "# 2 = Live \n",
    "\n",
    "#1 = Die \n",
    "\n",
    "df_hepatitis_clean.dtypes\n"
   ]
  },
  {
   "cell_type": "code",
   "execution_count": 55,
   "id": "593d75de",
   "metadata": {},
   "outputs": [
    {
     "name": "stdout",
     "output_type": "stream",
     "text": [
      "['Class', 'Sex', 'Steroid', 'Antivirals', 'Fatigue', 'Malaise', 'Anorexia', 'Liver Big', 'Liver Firm', 'Spleen Palpable', 'Spiders', 'Ascites', 'Varices']\n"
     ]
    }
   ],
   "source": [
    "# Filtering for categorical\n",
    "\n",
    "\n",
    "# Identify categorical columns\n",
    "categorical_columns = df_variable_descriptions[df_variable_descriptions['type'] == 'Categorical']['name'].tolist()\n",
    "\n",
    "print(categorical_columns)"
   ]
  },
  {
   "cell_type": "code",
   "execution_count": 65,
   "id": "955a4bbf",
   "metadata": {},
   "outputs": [
    {
     "name": "stdout",
     "output_type": "stream",
     "text": [
      "['Age', 'Bilirubin', 'Alk Phosphate', 'Sgot', 'Albumin', 'Protime', 'Histology']\n"
     ]
    }
   ],
   "source": [
    "# Filtering for numeric columns \n",
    "\n",
    "# Identify numeric columns \n",
    "\n",
    "numeric_columns = df_variable_descriptions[df_variable_descriptions['type'].isin(['Integer', 'Continuous'])]['name'].tolist()\n",
    "\n",
    "print(numeric_columns)\n",
    "\n"
   ]
  },
  {
   "cell_type": "code",
   "execution_count": 69,
   "id": "c918099d",
   "metadata": {},
   "outputs": [
    {
     "name": "stderr",
     "output_type": "stream",
     "text": [
      "/var/folders/g_/gr9skh4j1ss5jtj3c1slx58w0000gn/T/ipykernel_12766/1803069382.py:9: SettingWithCopyWarning: \n",
      "A value is trying to be set on a copy of a slice from a DataFrame.\n",
      "Try using .loc[row_indexer,col_indexer] = value instead\n",
      "\n",
      "See the caveats in the documentation: https://pandas.pydata.org/pandas-docs/stable/user_guide/indexing.html#returning-a-view-versus-a-copy\n",
      "  df_hepatitis_clean[categorical_columns] = imputer.fit_transform(df_hepatitis_clean[categorical_columns])\n"
     ]
    },
    {
     "data": {
      "text/plain": [
       "Class              0\n",
       "Age                0\n",
       "Sex                0\n",
       "Steroid            0\n",
       "Antivirals         0\n",
       "Fatigue            0\n",
       "Malaise            0\n",
       "Anorexia           0\n",
       "Liver Big          0\n",
       "Liver Firm         0\n",
       "Spleen Palpable    0\n",
       "Spiders            0\n",
       "Ascites            0\n",
       "Varices            0\n",
       "Bilirubin          0\n",
       "Alk Phosphate      0\n",
       "Sgot               0\n",
       "Albumin            0\n",
       "Protime            0\n",
       "Histology          0\n",
       "dtype: int64"
      ]
     },
     "execution_count": 69,
     "metadata": {},
     "output_type": "execute_result"
    }
   ],
   "source": [
    "# Imputing the mode for the remaining categorical variables with missing values \n",
    "\n",
    "\n",
    "\n",
    "# Create a SimpleImputer instance for categorical columns with 'most_frequent' strategy\n",
    "categorical_imputer = SimpleImputer(strategy='most_frequent')\n",
    "\n",
    "# Fit and transform the imputer on the DataFrame\n",
    "df_hepatitis_clean[categorical_columns] = imputer.fit_transform(df_hepatitis_clean[categorical_columns])\n",
    "\n",
    "# Display the DataFrame after imputing the mode\n",
    "df_hepatitis_clean\n",
    "\n",
    "df_hepatitis_clean.isna().sum()"
   ]
  },
  {
   "cell_type": "code",
   "execution_count": 72,
   "id": "512c80af",
   "metadata": {},
   "outputs": [
    {
     "name": "stderr",
     "output_type": "stream",
     "text": [
      "/var/folders/g_/gr9skh4j1ss5jtj3c1slx58w0000gn/T/ipykernel_12766/970244632.py:8: SettingWithCopyWarning: \n",
      "A value is trying to be set on a copy of a slice from a DataFrame.\n",
      "Try using .loc[row_indexer,col_indexer] = value instead\n",
      "\n",
      "See the caveats in the documentation: https://pandas.pydata.org/pandas-docs/stable/user_guide/indexing.html#returning-a-view-versus-a-copy\n",
      "  df_hepatitis_clean[numeric_columns] = numeric_imputer.fit_transform(df_hepatitis_clean[numeric_columns])\n"
     ]
    },
    {
     "data": {
      "text/plain": [
       "Class              0\n",
       "Age                0\n",
       "Sex                0\n",
       "Steroid            0\n",
       "Antivirals         0\n",
       "Fatigue            0\n",
       "Malaise            0\n",
       "Anorexia           0\n",
       "Liver Big          0\n",
       "Liver Firm         0\n",
       "Spleen Palpable    0\n",
       "Spiders            0\n",
       "Ascites            0\n",
       "Varices            0\n",
       "Bilirubin          0\n",
       "Alk Phosphate      0\n",
       "Sgot               0\n",
       "Albumin            0\n",
       "Protime            0\n",
       "Histology          0\n",
       "dtype: int64"
      ]
     },
     "execution_count": 72,
     "metadata": {},
     "output_type": "execute_result"
    }
   ],
   "source": [
    "# Imputing the median for numeric/integer variables with missing values \n",
    "\n",
    "\n",
    "# Create a SimpleImputer instance for numeric columns with 'median' strategy\n",
    "numeric_imputer = SimpleImputer(strategy='median')\n",
    "\n",
    "# Fit and transform the imputer on the DataFrame for numeric columns\n",
    "df_hepatitis_clean[numeric_columns] = numeric_imputer.fit_transform(df_hepatitis_clean[numeric_columns])\n",
    "\n",
    "# Display the DataFrame after imputing missing values with median for numeric columns\n",
    "# print(df_hepatitis_clean)\n",
    "\n",
    "df_hepatitis_clean.isna().sum()"
   ]
  },
  {
   "cell_type": "code",
   "execution_count": 73,
   "id": "dcf60a6c",
   "metadata": {},
   "outputs": [
    {
     "name": "stdout",
     "output_type": "stream",
     "text": [
      "2.0    121\n",
      "1.0     32\n",
      "Name: Class, dtype: int64\n",
      "2.0    79.084967\n",
      "1.0    20.915033\n",
      "Name: Class, dtype: float64\n"
     ]
    }
   ],
   "source": [
    "# Now that all of the missing values have been taken care of, I want to again check the balance of the \n",
    "# target variable \n",
    "\n",
    "target_class_counts = df_hepatitis_clean['Class'].value_counts()\n",
    "\n",
    "# Display the counts\n",
    "print(target_class_counts)\n",
    "\n",
    "# Calculate the percentage of observations for each class\n",
    "target_class_percentage = df_hepatitis_clean['Class'].value_counts(normalize=True) * 100\n",
    "\n",
    "# Display the percentage\n",
    "print(target_class_percentage)"
   ]
  },
  {
   "cell_type": "markdown",
   "id": "ba887e65",
   "metadata": {},
   "source": [
    "**Data Cleaning Summary**\n",
    "\n",
    "In summary, I decided to drop the observations in which there was only 1 missing value in some columns. Next, I decided to impute the missing values in the categorical columns with the mode and to impute the missing values in the numeric/integer columns with the median. \n",
    "\n",
    "One important thing to note here is that the number of missing values in the Protime columns was relatively large, however, I hypothesized that the in the current analysis dropping it completely would result in the loss of too much information. However, if time allowed or in a future version, it may be prudent to try the analysis and modeling both ways. "
   ]
  },
  {
   "cell_type": "markdown",
   "id": "bcaa6058",
   "metadata": {},
   "source": [
    "**Exploratory Data Analysis**"
   ]
  },
  {
   "cell_type": "code",
   "execution_count": null,
   "id": "25d9720a",
   "metadata": {},
   "outputs": [],
   "source": []
  },
  {
   "cell_type": "markdown",
   "id": "2da793c9",
   "metadata": {},
   "source": [
    "**Exploratory Data Analysis Summary**"
   ]
  },
  {
   "cell_type": "markdown",
   "id": "1e6846e0",
   "metadata": {},
   "source": [
    "**Model Building**"
   ]
  }
 ],
 "metadata": {
  "kernelspec": {
   "display_name": "Python 3 (ipykernel)",
   "language": "python",
   "name": "python3"
  },
  "language_info": {
   "codemirror_mode": {
    "name": "ipython",
    "version": 3
   },
   "file_extension": ".py",
   "mimetype": "text/x-python",
   "name": "python",
   "nbconvert_exporter": "python",
   "pygments_lexer": "ipython3",
   "version": "3.8.13"
  }
 },
 "nbformat": 4,
 "nbformat_minor": 5
}
